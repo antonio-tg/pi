{
 "cells": [
  {
   "cell_type": "code",
   "execution_count": 4,
   "metadata": {},
   "outputs": [],
   "source": [
    "pir = 3.14159265358979323846"
   ]
  },
  {
   "cell_type": "markdown",
   "metadata": {},
   "source": [
    "# Riemann method"
   ]
  },
  {
   "cell_type": "code",
   "execution_count": 14,
   "metadata": {},
   "outputs": [
    {
     "name": "stdout",
     "output_type": "stream",
     "text": [
      "El valor de pi es = 3.141592653589793\n",
      "El valor aproximado de pi es ≈ 3.1415926535893197 con un error 1.5068761290844928e-11\n"
     ]
    }
   ],
   "source": [
    "import math\n",
    "a   = -28\n",
    "b   = 28\n",
    "n   = 1000000\n",
    "dx  = (b-a)/n\n",
    "sum = 0\n",
    "for i in range(1,n+1):\n",
    "    arg = (a + dx*(i+0.5))**2\n",
    "    sum = sum + math.exp(-arg)*dx\n",
    "pi = sum**2\n",
    "err = abs(pi-pir)/pir*100\n",
    "print(\"El valor de pi es =\",pir)\n",
    "print(\"El valor aproximado de pi es ≈\",pi, 'con un error', err )"
   ]
  },
  {
   "cell_type": "markdown",
   "metadata": {},
   "source": [
    "# Simpson method"
   ]
  },
  {
   "cell_type": "code",
   "execution_count": 15,
   "metadata": {},
   "outputs": [
    {
     "name": "stdout",
     "output_type": "stream",
     "text": [
      "El valor de pi es = 3.141592653589793\n",
      "El valor aproximado de pi es ≈ 3.141592653589387 con un error 1.292011990603402e-11\n"
     ]
    }
   ],
   "source": [
    "import math\n",
    "a   = -28\n",
    "b   = 28\n",
    "n   = 1000000\n",
    "dx  = (b-a)/n\n",
    "sum = 0\n",
    "for i in range(1,n+1):\n",
    "    arg = a + dx*i\n",
    "    sum = sum + (3.0/8.0)*(dx/3)*(math.exp(-(arg)**2) + 3.0*math.exp(-(arg + dx/3)**2) + 3.0*math.exp(-(arg+ 2.0*dx/3.0)**2) + math.exp(-(arg+dx)**2))\n",
    "pi = sum**2\n",
    "err = abs(pi-pir)/pir*100\n",
    "print(\"El valor de pi es =\",pir)\n",
    "print(\"El valor aproximado de pi es ≈\",pi, 'con un error', err )"
   ]
  },
  {
   "cell_type": "markdown",
   "metadata": {},
   "source": [
    "# Buffon Method"
   ]
  },
  {
   "cell_type": "code",
   "execution_count": 16,
   "metadata": {
    "scrolled": true
   },
   "outputs": [
    {
     "name": "stdout",
     "output_type": "stream",
     "text": [
      "El valor de pi es = 3.141592653589793\n",
      "El valor aproximado de pi es ≈ 3.3167330842466787 con un error 5.574893054857332\n"
     ]
    }
   ],
   "source": [
    "import random\n",
    "sum = 0\n",
    "for i in range(0,n):\n",
    "    x1 = 10*random.random()\n",
    "    y1 = 10*random.random()\n",
    "    th= 100*random.random()\n",
    "    x2 = x1 + math.cos(th)\n",
    "    y2 = y1 + math.sin(th)\n",
    "    M=abs(int(x1)-int(x2))\n",
    "    if(M == 1):\n",
    "        sum = sum +1\n",
    "pi = 2*n/sum       \n",
    "err = abs(pi-pir)/pir*100\n",
    "print(\"El valor de pi es =\",pir)\n",
    "print(\"El valor aproximado de pi es ≈\",pi, 'con un error', err )"
   ]
  },
  {
   "cell_type": "markdown",
   "metadata": {},
   "source": [
    "# Euler Method"
   ]
  },
  {
   "cell_type": "code",
   "execution_count": 17,
   "metadata": {},
   "outputs": [
    {
     "name": "stdout",
     "output_type": "stream",
     "text": [
      "El valor de pi es = 3.141592653589793\n",
      "El valor aproximado de pi es ≈ 3.1415916986605086 con un error 3.0396343187411654e-05\n"
     ]
    }
   ],
   "source": [
    "sum = 0\n",
    "for i in range(1,n+1):\n",
    "    sum = sum + 1/(i*i)\n",
    "pi = (6*sum)**0.5\n",
    "err = abs(pi-pir)/pir*100\n",
    "print(\"El valor de pi es =\",pir)\n",
    "print(\"El valor aproximado de pi es ≈\",pi, 'con un error', err )"
   ]
  },
  {
   "cell_type": "markdown",
   "metadata": {},
   "source": [
    "# Euler Method II"
   ]
  },
  {
   "cell_type": "code",
   "execution_count": 18,
   "metadata": {},
   "outputs": [
    {
     "name": "stdout",
     "output_type": "stream",
     "text": [
      "El valor de pi es = 3.141592653589793\n",
      "El valor aproximado de pi es ≈ 2.5774984481647354 con un error 17.955676232578597\n"
     ]
    }
   ],
   "source": [
    "n = 1000\n",
    "sum = 0\n",
    "for i in range(0,n+1):\n",
    "    sum = sum + (2**i + math.factorial(i)**2)/math.factorial(2*i +1)\n",
    "pi = sum\n",
    "err = abs(pi-pir)/pir*100\n",
    "print(\"El valor de pi es =\",pir)\n",
    "print(\"El valor aproximado de pi es ≈\",pi, 'con un error', err )"
   ]
  },
  {
   "cell_type": "code",
   "execution_count": null,
   "metadata": {},
   "outputs": [],
   "source": []
  },
  {
   "cell_type": "code",
   "execution_count": null,
   "metadata": {},
   "outputs": [],
   "source": []
  },
  {
   "cell_type": "code",
   "execution_count": null,
   "metadata": {},
   "outputs": [],
   "source": []
  }
 ],
 "metadata": {
  "kernelspec": {
   "display_name": "Python 3",
   "language": "python",
   "name": "python3"
  },
  "language_info": {
   "codemirror_mode": {
    "name": "ipython",
    "version": 3
   },
   "file_extension": ".py",
   "mimetype": "text/x-python",
   "name": "python",
   "nbconvert_exporter": "python",
   "pygments_lexer": "ipython3",
   "version": "3.7.6"
  }
 },
 "nbformat": 4,
 "nbformat_minor": 2
}
